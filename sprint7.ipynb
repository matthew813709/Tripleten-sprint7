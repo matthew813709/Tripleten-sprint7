{
 "cells": [
  {
   "cell_type": "markdown",
   "metadata": {},
   "source": [
    "# Sprint 7 Project"
   ]
  },
  {
   "cell_type": "markdown",
   "metadata": {},
   "source": [
    "In this project we attempted to examine two groups of data, being the testing data and the training data. The training data determines accuracy by not subjecting this group to the test variables under investigation, which allows the comparison we are trying to make valid. We examined the features of the data, and created a confusion matrix to solidify this task further."
   ]
  },
  {
   "cell_type": "code",
   "execution_count": 3,
   "metadata": {},
   "outputs": [],
   "source": [
    "import pandas as pd\n",
    "from sklearn.model_selection import train_test_split\n",
    "from sklearn.tree import DecisionTreeClassifier\n",
    "from sklearn.tree import DecisionTreeClassifier\n",
    "from sklearn.ensemble import RandomForestClassifier\n",
    "from sklearn.linear_model import LogisticRegression\n",
    "import joblib\n",
    "from joblib import dump\n",
    "from sklearn.metrics import recall_score, precision_score, f1_score, confusion_matrix, accuracy_score\n",
    "from sklearn.ensemble import RandomForestClassifier\n",
    "from sklearn.model_selection import GridSearchCV"
   ]
  },
  {
   "cell_type": "code",
   "execution_count": 4,
   "metadata": {},
   "outputs": [],
   "source": [
    "df = pd.read_csv('/datasets/users_behavior.csv')"
   ]
  },
  {
   "cell_type": "code",
   "execution_count": 5,
   "metadata": {},
   "outputs": [
    {
     "name": "stdout",
     "output_type": "stream",
     "text": [
      "calls       float64\n",
      "minutes     float64\n",
      "messages    float64\n",
      "mb_used     float64\n",
      "is_ultra      int64\n",
      "dtype: object\n",
      "   calls  minutes  messages   mb_used  is_ultra\n",
      "0   40.0   311.90      83.0  19915.42         0\n",
      "1   85.0   516.75      56.0  22696.96         0\n",
      "2   77.0   467.66      86.0  21060.45         0\n",
      "3  106.0   745.53      81.0   8437.39         1\n",
      "4   66.0   418.74       1.0  14502.75         0\n"
     ]
    }
   ],
   "source": [
    "print(df.dtypes)\n",
    "print(df.head())"
   ]
  },
  {
   "cell_type": "code",
   "execution_count": 6,
   "metadata": {},
   "outputs": [
    {
     "name": "stdout",
     "output_type": "stream",
     "text": [
      "Index(['calls', 'minutes', 'messages', 'mb_used', 'is_ultra'], dtype='object')\n"
     ]
    }
   ],
   "source": [
    "print(df.columns)\n",
    "\n",
    "if 'is_ultra' in df.columns:\n",
    "    features = df[['calls', 'minutes', 'messages', 'mb_used']]\n",
    "    target = df['is_ultra']\n",
    "else:\n",
    "    print(\"Column 'is_ultimate' not found in the DataFrame.\")\n",
    "    # You may need to find the correct target column or fix the dataset\n",
    "\n",
    "df = df[['calls', 'minutes', 'messages', 'mb_used', 'is_ultra']]\n",
    "\n",
    "train, temp = train_test_split(df, test_size=0.3, random_state=54321)\n",
    "\n",
    "valid, test = train_test_split(temp, test_size=0.5, random_state=54321)\n",
    "\n",
    "features_train = train[['calls', 'minutes', 'messages', 'mb_used']]\n",
    "target_train = train['is_ultra']\n",
    "\n",
    "features_valid = valid[['calls', 'minutes', 'messages', 'mb_used']]\n",
    "target_valid = valid['is_ultra']\n",
    "\n",
    "features_test = test[['calls', 'minutes', 'messages', 'mb_used']]\n",
    "target_test = test['is_ultra']\n"
   ]
  },
  {
   "cell_type": "code",
   "execution_count": 32,
   "metadata": {},
   "outputs": [
    {
     "name": "stdout",
     "output_type": "stream",
     "text": [
      "0.7344398340248963\n"
     ]
    }
   ],
   "source": [
    "model = DecisionTreeClassifier(random_state=12345)\n",
    "model.fit(features_train, target_train)\n",
    "predicted_valid = model.predict(features_valid)\n",
    "\n",
    "accuracy_valid = accuracy_score(target_valid, predicted_valid)\n",
    "\n",
    "print(accuracy_valid)"
   ]
  },
  {
   "cell_type": "code",
   "execution_count": 33,
   "metadata": {},
   "outputs": [
    {
     "name": "stdout",
     "output_type": "stream",
     "text": [
      "0.693528313627878\n"
     ]
    }
   ],
   "source": [
    "target = df['is_ultra']\n",
    "features = df.drop('calls', axis=1)\n",
    "\n",
    "target_pred_constant = pd.Series(0, index=target.index)\n",
    "\n",
    "print(accuracy_score(target, target_pred_constant))"
   ]
  },
  {
   "cell_type": "code",
   "execution_count": 34,
   "metadata": {},
   "outputs": [
    {
     "data": {
      "text/plain": [
       "['model.joblib']"
      ]
     },
     "execution_count": 34,
     "metadata": {},
     "output_type": "execute_result"
    }
   ],
   "source": [
    "joblib.dump(model, 'model.joblib')"
   ]
  },
  {
   "cell_type": "code",
   "execution_count": 35,
   "metadata": {},
   "outputs": [],
   "source": [
    "model = joblib.load('model.joblib')"
   ]
  },
  {
   "cell_type": "code",
   "execution_count": 36,
   "metadata": {},
   "outputs": [
    {
     "name": "stdout",
     "output_type": "stream",
     "text": [
      "[[266  53]\n",
      " [ 75  88]]\n"
     ]
    }
   ],
   "source": [
    "print(confusion_matrix(target_valid, predicted_valid))"
   ]
  },
  {
   "cell_type": "code",
   "execution_count": null,
   "metadata": {},
   "outputs": [],
   "source": []
  },
  {
   "cell_type": "code",
   "execution_count": 37,
   "metadata": {},
   "outputs": [],
   "source": [
    "model_performance = {}"
   ]
  },
  {
   "cell_type": "code",
   "execution_count": 38,
   "metadata": {},
   "outputs": [],
   "source": [
    "dt_model = DecisionTreeClassifier(random_state=54321)\n",
    "dt_model.fit(features, target)\n",
    "val_preds = dt_model.predict(features_test)\n",
    "dt_accuracy = accuracy_score(target_test, val_preds)\n",
    "model_performance['DecisionTreeClassifier'] = dt_accuracy"
   ]
  },
  {
   "cell_type": "code",
   "execution_count": 39,
   "metadata": {},
   "outputs": [],
   "source": [
    "rf_model = RandomForestClassifier(random_state=54321, n_estimators=10)\n",
    "rf_model.fit(features_train, target_train)\n",
    "val_preds = rf_model.predict(features_valid)\n",
    "rf_accuracy = accuracy_score(target_valid, val_preds)\n",
    "model_performance['RandomForestClassifier'] = rf_accuracy"
   ]
  },
  {
   "cell_type": "code",
   "execution_count": 40,
   "metadata": {},
   "outputs": [],
   "source": [
    "lr_model = LogisticRegression(random_state=54321)\n",
    "lr_model.fit(features_train, target_train)\n",
    "val_preds = lr_model.predict(features_valid)\n",
    "lr_accuracy = accuracy_score(target_valid, val_preds)\n",
    "model_performance['LogisticRegression'] = lr_accuracy"
   ]
  },
  {
   "cell_type": "code",
   "execution_count": 41,
   "metadata": {},
   "outputs": [
    {
     "name": "stdout",
     "output_type": "stream",
     "text": [
      "DecisionTreeClassifier Validation Accuracy: 0.30\n",
      "RandomForestClassifier Validation Accuracy: 0.80\n",
      "LogisticRegression Validation Accuracy: 0.72\n",
      "Best Model: RandomForestClassifier Test Accuracy: 0.80\n"
     ]
    }
   ],
   "source": [
    "for model_name, accuracy in model_performance.items():\n",
    "    print(f\"{model_name} Validation Accuracy: {accuracy:.2f}\")\n",
    "# Choose the best model based on validation accuracy and evaluate on test set\n",
    "best_model_name = max(model_performance, key=model_performance.get)\n",
    "best_model = None\n",
    "\n",
    "if best_model_name == 'DecisionTreeClassifier':\n",
    "    best_model = dt_model\n",
    "elif best_model_name == 'RandomForestClassifier':\n",
    "    best_model = rf_model\n",
    "elif best_model_name == 'LogisticRegression':\n",
    "    best_model = lr_model\n",
    "\n",
    "test_preds = best_model.predict(features_test)\n",
    "test_accuracy = accuracy_score(target_test, test_preds)\n",
    "\n",
    "print(f\"Best Model: {best_model_name} Test Accuracy: {test_accuracy:.2f}\")"
   ]
  },
  {
   "cell_type": "markdown",
   "metadata": {},
   "source": [
    "After running a sanity check, the process of comparing our model with a random one to assess whether the model makes sense we determined it does. A confusion matrix is a useful tool for evaluating the performance of a classification model. It provides a summary of how well the model’s predictions match the actual class labels.\n",
    "\n",
    "In binary classification (where there are two classes), the confusion matrix has four entries:\n",
    "True Positives (TP): The number of instances correctly predicted as positive.\n",
    "True Negatives (TN): The number of instances correctly predicted as negative.\n",
    "False Positives (FP): The number of instances incorrectly predicted as positive.\n",
    "False Negatives (FN): The number of instances incorrectly predicted as negative.\n",
    "\n",
    "We can see all 4 of the targets and we can, upon initial inspection, determine that the numbers are high for true positives and true negatives, indicating more true negatives than false negatives and more true positives than false positives, ensuring accuracy."
   ]
  },
  {
   "cell_type": "code",
   "execution_count": 42,
   "metadata": {},
   "outputs": [],
   "source": [
    "param_grid_rf = {\n",
    "    'n_estimators': [50, 100],\n",
    "    'max_depth': [None, 10]\n",
    "}\n"
   ]
  },
  {
   "cell_type": "code",
   "execution_count": 43,
   "metadata": {},
   "outputs": [
    {
     "data": {
      "text/plain": [
       "DecisionTreeClassifier(random_state=42)"
      ]
     },
     "execution_count": 43,
     "metadata": {},
     "output_type": "execute_result"
    }
   ],
   "source": [
    "\n",
    "# Parallelized GridSearchCV\n",
    "grid_search_rf = GridSearchCV(RandomForestClassifier(), param_grid_rf, cv=3, scoring='accuracy', n_jobs=-1)\n",
    "grid_search_rf.fit(features_train, target_train)\n",
    "best_rf_model = grid_search_rf.best_estimator_\n",
    "\n",
    "# Decision Tree\n",
    "dt_model = DecisionTreeClassifier(random_state=42)\n",
    "dt_model.fit(features_train, target_train)\n",
    "\n"
   ]
  },
  {
   "cell_type": "code",
   "execution_count": 44,
   "metadata": {},
   "outputs": [],
   "source": [
    "# Logistic Regression\n",
    "lr_model = LogisticRegression(max_iter=200)\n",
    "lr_model.fit(features_train, target_train)\n",
    "\n",
    "# Validation accuracies\n",
    "rf_validation_accuracy = accuracy_score(target_valid, best_rf_model.predict(features_valid))\n",
    "dt_validation_accuracy = accuracy_score(target_valid, dt_model.predict(features_valid))\n",
    "lr_validation_accuracy = accuracy_score(target_valid, lr_model.predict(features_valid))\n",
    "\n",
    "model_performance = {\n",
    "    'DecisionTreeClassifier': dt_validation_accuracy,\n",
    "    'RandomForestClassifier': rf_validation_accuracy,\n",
    "    'LogisticRegression': lr_validation_accuracy\n",
    "}\n",
    "\n",
    "best_model_name = max(model_performance, key=model_performance.get)\n",
    "\n",
    "if best_model_name == 'DecisionTreeClassifier':\n",
    "    best_model = dt_model\n",
    "elif best_model_name == 'RandomForestClassifier':\n",
    "    best_model = best_rf_model\n",
    "elif best_model_name == 'LogisticRegression':\n",
    "    best_model = lr_model"
   ]
  },
  {
   "cell_type": "code",
   "execution_count": 45,
   "metadata": {},
   "outputs": [
    {
     "name": "stdout",
     "output_type": "stream",
     "text": [
      "Best Model: RandomForestClassifier Test Accuracy: 0.80\n"
     ]
    }
   ],
   "source": [
    "# Evaluate best model on test set\n",
    "test_preds = best_model.predict(features_test)\n",
    "test_accuracy = accuracy_score(target_test, test_preds)\n",
    "\n",
    "print(f'Best Model: {best_model_name} Test Accuracy: {test_accuracy:.2f}')\n"
   ]
  },
  {
   "cell_type": "code",
   "execution_count": 46,
   "metadata": {},
   "outputs": [
    {
     "data": {
      "text/plain": [
       "Int64Index([], dtype='int64')"
      ]
     },
     "execution_count": 46,
     "metadata": {},
     "output_type": "execute_result"
    }
   ],
   "source": [
    "features_train.index.intersection(features_test.index)"
   ]
  },
  {
   "cell_type": "code",
   "execution_count": null,
   "metadata": {},
   "outputs": [],
   "source": []
  },
  {
   "cell_type": "markdown",
   "metadata": {},
   "source": [
    "The best model predicted is the Decision Tree Classifier test, at 80% accuracy."
   ]
  },
  {
   "cell_type": "code",
   "execution_count": 47,
   "metadata": {},
   "outputs": [],
   "source": [
    "model = DecisionTreeClassifier(random_state=12345)\n",
    "model.fit(features_train, target_train)\n",
    "predicted_valid = model.predict(features_valid)"
   ]
  },
  {
   "cell_type": "code",
   "execution_count": 48,
   "metadata": {},
   "outputs": [],
   "source": [
    "predicted_valid = model.predict(features_valid)"
   ]
  },
  {
   "cell_type": "code",
   "execution_count": 49,
   "metadata": {},
   "outputs": [
    {
     "name": "stdout",
     "output_type": "stream",
     "text": [
      "0.5789473684210527\n"
     ]
    }
   ],
   "source": [
    "f1 = f1_score(target_valid, predicted_valid, average='binary')\n",
    "print(f1)"
   ]
  },
  {
   "cell_type": "markdown",
   "metadata": {},
   "source": [
    "The F1 score, which is calculated as the harmonic mean of precision and recall, is at 57.8%, indicating accuracy."
   ]
  },
  {
   "cell_type": "code",
   "execution_count": 50,
   "metadata": {},
   "outputs": [
    {
     "name": "stdout",
     "output_type": "stream",
     "text": [
      "0.5398773006134969\n"
     ]
    }
   ],
   "source": [
    "recall = recall_score(target_valid, predicted_valid, average='binary')\n",
    "print(recall)"
   ]
  },
  {
   "cell_type": "markdown",
   "metadata": {},
   "source": [
    "Recall, which takes all data that is accurate and calculates what fraction of them was recognized by the model, is at 53.9%, indicating accuracy. Data that was recognized by the model by mistake are ignored."
   ]
  },
  {
   "cell_type": "code",
   "execution_count": 51,
   "metadata": {},
   "outputs": [
    {
     "name": "stdout",
     "output_type": "stream",
     "text": [
      "0.624113475177305\n"
     ]
    }
   ],
   "source": [
    "precision = precision_score(target_valid, predicted_valid, average='binary')\n",
    "print(precision)"
   ]
  },
  {
   "cell_type": "markdown",
   "metadata": {},
   "source": [
    "Precision, which is an evaluation metric that shows the ratio of the number of actual observations with answer \"1\" to the number of observations marked as \"1\" by the model is at 62.4%, indicating accuracy."
   ]
  },
  {
   "cell_type": "code",
   "execution_count": 52,
   "metadata": {},
   "outputs": [
    {
     "name": "stdout",
     "output_type": "stream",
     "text": [
      "Final Model Test Set Accuracy: 0.80 with n_estimators: 26.\n"
     ]
    }
   ],
   "source": [
    "best_accuracy_score = 0\n",
    "best_estimator = 0\n",
    "\n",
    "for k in range(1, 50):\n",
    "    model = RandomForestClassifier(max_depth=5, random_state=13, n_estimators=k)\n",
    "    model.fit(features_train, target_train)\n",
    "    \n",
    "    validation_prediction = model.predict(features_valid)\n",
    "    accuracy_validation = accuracy_score(target_valid, validation_prediction)\n",
    "    \n",
    "    if accuracy_validation > best_accuracy_score:\n",
    "        best_accuracy_score = accuracy_validation\n",
    "        best_estimator = k\n",
    "\n",
    "final_model = RandomForestClassifier(max_depth=5, random_state=13, n_estimators=best_estimator)\n",
    "final_model.fit(features_train, target_train)\n",
    "test_prediction = final_model.predict(features_test)\n",
    "\n",
    "accuracy_test = accuracy_score(target_test, test_prediction)\n",
    "\n",
    "print(f\"Final Model Test Set Accuracy: {accuracy_test:.2f} with n_estimators: {best_estimator}.\")\n"
   ]
  },
  {
   "cell_type": "markdown",
   "metadata": {},
   "source": [
    "The accurracy is relatively high, at 80%"
   ]
  },
  {
   "cell_type": "code",
   "execution_count": 53,
   "metadata": {},
   "outputs": [
    {
     "name": "stdout",
     "output_type": "stream",
     "text": [
      "(3214, 4)\n",
      "(3214,)\n"
     ]
    }
   ],
   "source": [
    "print(features.shape)\n",
    "print(target.shape)"
   ]
  },
  {
   "cell_type": "code",
   "execution_count": 54,
   "metadata": {},
   "outputs": [
    {
     "name": "stdout",
     "output_type": "stream",
     "text": [
      "Accuracy of the best model on the validation set (n_estimators = 8): 0.8049792531120332\n"
     ]
    },
    {
     "data": {
      "text/plain": [
       "RandomForestClassifier(n_estimators=10, random_state=54321)"
      ]
     },
     "execution_count": 54,
     "metadata": {},
     "output_type": "execute_result"
    }
   ],
   "source": [
    "best_score = 0\n",
    "best_est = 0\n",
    "for est in range(1, 11):\n",
    "    model = RandomForestClassifier(random_state=54321, n_estimators=est)\n",
    "    model.fit(features_train, target_train)\n",
    "    score = model.score(features_valid, target_valid)\n",
    "    if score > best_score:\n",
    "        best_score = score\n",
    "        best_est = est\n",
    "\n",
    "print(\"Accuracy of the best model on the validation set (n_estimators = {}): {}\".format(best_est, best_score))\n",
    "\n",
    "final_model = RandomForestClassifier(random_state=54321, n_estimators=10)\n",
    "final_model.fit(features_train, target_train)"
   ]
  },
  {
   "cell_type": "markdown",
   "metadata": {},
   "source": [
    "The accuracy is relatively high at 80.49%."
   ]
  },
  {
   "cell_type": "code",
   "execution_count": 55,
   "metadata": {},
   "outputs": [
    {
     "name": "stdout",
     "output_type": "stream",
     "text": [
      "Accuracy of the logistic regression model on the training set: 0.7216540684748777\n",
      "Accuracy of the logistic regression model on the validation set: 0.6721991701244814\n"
     ]
    }
   ],
   "source": [
    "\n",
    "model = LogisticRegression(\n",
    "    random_state=54321, solver=\"liblinear\"\n",
    ")\n",
    "model.fit(features_train, target_train)\n",
    "score_train = model.score(features_train, target_train)\n",
    "score_valid = model.score(features_valid, target_valid)\n",
    "\n",
    "print(\n",
    "    \"Accuracy of the logistic regression model on the training set:\",\n",
    "    score_train,\n",
    ")\n",
    "print(\n",
    "    \"Accuracy of the logistic regression model on the validation set:\",\n",
    "    score_valid,\n",
    ")"
   ]
  },
  {
   "cell_type": "markdown",
   "metadata": {},
   "source": [
    "Accuracy of the logistic model is also fairly high for both sets, at 72.16% and  67.21% respectively."
   ]
  },
  {
   "cell_type": "markdown",
   "metadata": {},
   "source": [
    "In this project we attempted to examine two groups of data, being the testing data and the training data. We examined the features of the data, and created a confusion matrix to solidify this task further. We also examined the predicted value, recall, precision, and F1 score. Finally we altered the hyperparameters and and examined the accuracy of the linear regression as well as the accuracy of the validation set."
   ]
  }
 ],
 "metadata": {
  "ExecuteTimeLog": [
   {
    "duration": 474,
    "start_time": "2024-06-08T13:54:25.740Z"
   },
   {
    "duration": 1043,
    "start_time": "2024-06-08T13:55:09.513Z"
   },
   {
    "duration": 4,
    "start_time": "2024-06-08T13:55:13.686Z"
   },
   {
    "duration": 125,
    "start_time": "2024-06-08T13:55:14.012Z"
   },
   {
    "duration": 129,
    "start_time": "2024-06-08T13:55:35.223Z"
   },
   {
    "duration": 4,
    "start_time": "2024-06-08T13:55:39.143Z"
   },
   {
    "duration": 160,
    "start_time": "2024-06-08T13:55:39.983Z"
   },
   {
    "duration": 122,
    "start_time": "2024-06-08T13:57:01.747Z"
   },
   {
    "duration": 4,
    "start_time": "2024-06-08T13:57:04.679Z"
   },
   {
    "duration": 122,
    "start_time": "2024-06-08T13:57:04.909Z"
   },
   {
    "duration": 541,
    "start_time": "2024-06-08T13:57:28.332Z"
   },
   {
    "duration": 1072,
    "start_time": "2024-06-08T13:57:28.877Z"
   },
   {
    "duration": 19,
    "start_time": "2024-06-08T13:58:05.714Z"
   },
   {
    "duration": 665,
    "start_time": "2024-06-08T13:58:34.391Z"
   },
   {
    "duration": 11,
    "start_time": "2024-06-08T13:58:36.134Z"
   },
   {
    "duration": 7,
    "start_time": "2024-06-08T13:59:02.938Z"
   },
   {
    "duration": 89,
    "start_time": "2024-06-08T13:59:34.449Z"
   },
   {
    "duration": 22,
    "start_time": "2024-06-08T13:59:43.725Z"
   },
   {
    "duration": 4,
    "start_time": "2024-06-08T14:01:51.934Z"
   },
   {
    "duration": 11,
    "start_time": "2024-06-08T14:01:52.317Z"
   },
   {
    "duration": 7,
    "start_time": "2024-06-08T14:01:52.563Z"
   },
   {
    "duration": 22,
    "start_time": "2024-06-08T14:01:53.024Z"
   },
   {
    "duration": 36,
    "start_time": "2024-06-08T14:03:16.419Z"
   },
   {
    "duration": 4,
    "start_time": "2024-06-08T14:03:23.169Z"
   },
   {
    "duration": 11,
    "start_time": "2024-06-08T14:03:23.424Z"
   },
   {
    "duration": 6,
    "start_time": "2024-06-08T14:03:23.616Z"
   },
   {
    "duration": 108,
    "start_time": "2024-06-08T14:03:24.128Z"
   },
   {
    "duration": 1337,
    "start_time": "2024-06-08T14:05:16.584Z"
   },
   {
    "duration": 22,
    "start_time": "2024-06-08T14:06:01.090Z"
   },
   {
    "duration": 167,
    "start_time": "2024-06-08T14:06:10.682Z"
   },
   {
    "duration": 11,
    "start_time": "2024-06-08T14:06:18.718Z"
   },
   {
    "duration": 43,
    "start_time": "2024-06-08T14:08:52.948Z"
   },
   {
    "duration": 37,
    "start_time": "2024-06-08T14:10:20.856Z"
   },
   {
    "duration": 56,
    "start_time": "2024-06-08T14:10:26.566Z"
   },
   {
    "duration": 7,
    "start_time": "2024-06-08T14:11:57.898Z"
   },
   {
    "duration": 3,
    "start_time": "2024-06-08T14:13:10.832Z"
   },
   {
    "duration": 77,
    "start_time": "2024-06-08T14:13:21.626Z"
   },
   {
    "duration": 22,
    "start_time": "2024-06-08T14:13:36.277Z"
   },
   {
    "duration": 10,
    "start_time": "2024-06-08T14:13:42.638Z"
   },
   {
    "duration": 73,
    "start_time": "2024-06-08T14:14:02.849Z"
   },
   {
    "duration": 14,
    "start_time": "2024-06-08T14:14:27.558Z"
   },
   {
    "duration": 4,
    "start_time": "2024-06-08T14:14:37.184Z"
   },
   {
    "duration": 11,
    "start_time": "2024-06-08T14:14:38.204Z"
   },
   {
    "duration": 8,
    "start_time": "2024-06-08T14:14:38.469Z"
   },
   {
    "duration": 9,
    "start_time": "2024-06-08T14:14:38.675Z"
   },
   {
    "duration": 55,
    "start_time": "2024-06-08T14:14:38.859Z"
   },
   {
    "duration": 8,
    "start_time": "2024-06-08T14:14:39.054Z"
   },
   {
    "duration": 3,
    "start_time": "2024-06-08T14:14:39.259Z"
   },
   {
    "duration": 73,
    "start_time": "2024-06-08T14:14:39.479Z"
   },
   {
    "duration": 73,
    "start_time": "2024-06-08T14:14:39.864Z"
   },
   {
    "duration": 4,
    "start_time": "2024-06-08T14:14:51.570Z"
   },
   {
    "duration": 30,
    "start_time": "2024-06-08T14:15:21.993Z"
   },
   {
    "duration": 4,
    "start_time": "2024-06-08T14:15:26.753Z"
   },
   {
    "duration": 9,
    "start_time": "2024-06-08T14:15:26.979Z"
   },
   {
    "duration": 6,
    "start_time": "2024-06-08T14:15:27.174Z"
   },
   {
    "duration": 9,
    "start_time": "2024-06-08T14:15:27.409Z"
   },
   {
    "duration": 57,
    "start_time": "2024-06-08T14:15:27.515Z"
   },
   {
    "duration": 7,
    "start_time": "2024-06-08T14:15:27.705Z"
   },
   {
    "duration": 4,
    "start_time": "2024-06-08T14:15:27.909Z"
   },
   {
    "duration": 72,
    "start_time": "2024-06-08T14:15:28.080Z"
   },
   {
    "duration": 73,
    "start_time": "2024-06-08T14:15:28.259Z"
   },
   {
    "duration": 4,
    "start_time": "2024-06-08T14:15:28.481Z"
   },
   {
    "duration": 3,
    "start_time": "2024-06-08T14:15:28.650Z"
   },
   {
    "duration": 5,
    "start_time": "2024-06-08T14:15:38.984Z"
   },
   {
    "duration": 24,
    "start_time": "2024-06-08T14:18:38.685Z"
   },
   {
    "duration": 4,
    "start_time": "2024-06-08T14:18:43.149Z"
   },
   {
    "duration": 10,
    "start_time": "2024-06-08T14:18:43.377Z"
   },
   {
    "duration": 7,
    "start_time": "2024-06-08T14:18:43.584Z"
   },
   {
    "duration": 9,
    "start_time": "2024-06-08T14:18:43.764Z"
   },
   {
    "duration": 59,
    "start_time": "2024-06-08T14:18:43.970Z"
   },
   {
    "duration": 7,
    "start_time": "2024-06-08T14:18:44.145Z"
   },
   {
    "duration": 3,
    "start_time": "2024-06-08T14:18:44.330Z"
   },
   {
    "duration": 73,
    "start_time": "2024-06-08T14:18:44.524Z"
   },
   {
    "duration": 72,
    "start_time": "2024-06-08T14:18:44.686Z"
   },
   {
    "duration": 3,
    "start_time": "2024-06-08T14:18:44.865Z"
   },
   {
    "duration": 5,
    "start_time": "2024-06-08T14:18:45.041Z"
   },
   {
    "duration": 23,
    "start_time": "2024-06-08T14:18:45.631Z"
   },
   {
    "duration": 1191,
    "start_time": "2024-06-08T14:18:59.275Z"
   },
   {
    "duration": 12,
    "start_time": "2024-06-08T14:19:00.470Z"
   },
   {
    "duration": 7,
    "start_time": "2024-06-08T14:19:00.485Z"
   },
   {
    "duration": 40,
    "start_time": "2024-06-08T14:19:00.497Z"
   },
   {
    "duration": 55,
    "start_time": "2024-06-08T14:19:00.541Z"
   },
   {
    "duration": 34,
    "start_time": "2024-06-08T14:19:00.598Z"
   },
   {
    "duration": 4,
    "start_time": "2024-06-08T14:19:00.634Z"
   },
   {
    "duration": 96,
    "start_time": "2024-06-08T14:19:00.641Z"
   },
   {
    "duration": 73,
    "start_time": "2024-06-08T14:19:00.740Z"
   },
   {
    "duration": 4,
    "start_time": "2024-06-08T14:19:00.833Z"
   },
   {
    "duration": 3,
    "start_time": "2024-06-08T14:19:00.840Z"
   },
   {
    "duration": 425,
    "start_time": "2024-06-08T14:19:00.847Z"
   },
   {
    "duration": 5,
    "start_time": "2024-06-08T14:19:31.740Z"
   },
   {
    "duration": 10,
    "start_time": "2024-06-08T14:19:31.978Z"
   },
   {
    "duration": 7,
    "start_time": "2024-06-08T14:19:32.174Z"
   },
   {
    "duration": 10,
    "start_time": "2024-06-08T14:19:32.344Z"
   },
   {
    "duration": 59,
    "start_time": "2024-06-08T14:19:32.526Z"
   },
   {
    "duration": 7,
    "start_time": "2024-06-08T14:19:32.715Z"
   },
   {
    "duration": 3,
    "start_time": "2024-06-08T14:19:32.882Z"
   },
   {
    "duration": 72,
    "start_time": "2024-06-08T14:19:33.039Z"
   },
   {
    "duration": 75,
    "start_time": "2024-06-08T14:19:33.234Z"
   },
   {
    "duration": 4,
    "start_time": "2024-06-08T14:19:33.395Z"
   },
   {
    "duration": 4,
    "start_time": "2024-06-08T14:19:33.555Z"
   },
   {
    "duration": 15,
    "start_time": "2024-06-08T14:19:33.730Z"
   },
   {
    "duration": 7,
    "start_time": "2024-06-08T14:19:52.089Z"
   },
   {
    "duration": 4,
    "start_time": "2024-06-08T14:21:09.919Z"
   },
   {
    "duration": 24,
    "start_time": "2024-06-08T14:21:30.967Z"
   },
   {
    "duration": 5,
    "start_time": "2024-06-08T14:21:35.215Z"
   },
   {
    "duration": 11,
    "start_time": "2024-06-08T14:21:35.444Z"
   },
   {
    "duration": 6,
    "start_time": "2024-06-08T14:21:35.647Z"
   },
   {
    "duration": 9,
    "start_time": "2024-06-08T14:21:35.820Z"
   },
   {
    "duration": 55,
    "start_time": "2024-06-08T14:21:36.006Z"
   },
   {
    "duration": 7,
    "start_time": "2024-06-08T14:21:36.193Z"
   },
   {
    "duration": 4,
    "start_time": "2024-06-08T14:21:36.408Z"
   },
   {
    "duration": 77,
    "start_time": "2024-06-08T14:21:36.571Z"
   },
   {
    "duration": 73,
    "start_time": "2024-06-08T14:21:36.807Z"
   },
   {
    "duration": 4,
    "start_time": "2024-06-08T14:21:37.021Z"
   },
   {
    "duration": 4,
    "start_time": "2024-06-08T14:21:37.201Z"
   },
   {
    "duration": 19,
    "start_time": "2024-06-08T14:21:37.398Z"
   },
   {
    "duration": 8,
    "start_time": "2024-06-08T14:21:37.559Z"
   },
   {
    "duration": 8,
    "start_time": "2024-06-08T14:21:37.887Z"
   },
   {
    "duration": 48,
    "start_time": "2024-06-08T14:22:10.936Z"
   },
   {
    "duration": 5,
    "start_time": "2024-06-08T14:22:20.533Z"
   },
   {
    "duration": 22,
    "start_time": "2024-06-08T14:22:30.558Z"
   },
   {
    "duration": 15,
    "start_time": "2024-06-08T14:22:35.350Z"
   },
   {
    "duration": 24,
    "start_time": "2024-06-08T14:22:45.404Z"
   },
   {
    "duration": 7,
    "start_time": "2024-06-08T14:23:13.380Z"
   },
   {
    "duration": 24,
    "start_time": "2024-06-08T14:23:59.980Z"
   },
   {
    "duration": 6,
    "start_time": "2024-06-08T14:24:17.119Z"
   },
   {
    "duration": 10,
    "start_time": "2024-06-08T14:24:17.410Z"
   },
   {
    "duration": 7,
    "start_time": "2024-06-08T14:24:17.608Z"
   },
   {
    "duration": 10,
    "start_time": "2024-06-08T14:24:17.815Z"
   },
   {
    "duration": 55,
    "start_time": "2024-06-08T14:24:18.010Z"
   },
   {
    "duration": 7,
    "start_time": "2024-06-08T14:24:18.184Z"
   },
   {
    "duration": 4,
    "start_time": "2024-06-08T14:24:18.388Z"
   },
   {
    "duration": 71,
    "start_time": "2024-06-08T14:24:18.584Z"
   },
   {
    "duration": 73,
    "start_time": "2024-06-08T14:24:18.754Z"
   },
   {
    "duration": 5,
    "start_time": "2024-06-08T14:24:18.945Z"
   },
   {
    "duration": 3,
    "start_time": "2024-06-08T14:24:19.135Z"
   },
   {
    "duration": 22,
    "start_time": "2024-06-08T14:24:19.328Z"
   },
   {
    "duration": 7,
    "start_time": "2024-06-08T14:24:19.526Z"
   },
   {
    "duration": 8,
    "start_time": "2024-06-08T14:24:19.708Z"
   },
   {
    "duration": 52,
    "start_time": "2024-06-08T14:24:19.893Z"
   },
   {
    "duration": 269,
    "start_time": "2024-06-08T14:24:20.103Z"
   },
   {
    "duration": 5,
    "start_time": "2024-06-08T14:25:30.895Z"
   },
   {
    "duration": 10,
    "start_time": "2024-06-08T14:25:31.225Z"
   },
   {
    "duration": 8,
    "start_time": "2024-06-08T14:25:31.553Z"
   },
   {
    "duration": 8,
    "start_time": "2024-06-08T14:25:31.885Z"
   },
   {
    "duration": 55,
    "start_time": "2024-06-08T14:25:32.265Z"
   },
   {
    "duration": 8,
    "start_time": "2024-06-08T14:25:32.598Z"
   },
   {
    "duration": 5,
    "start_time": "2024-06-08T14:25:32.888Z"
   },
   {
    "duration": 73,
    "start_time": "2024-06-08T14:25:33.189Z"
   },
   {
    "duration": 72,
    "start_time": "2024-06-08T14:25:33.495Z"
   },
   {
    "duration": 3,
    "start_time": "2024-06-08T14:25:33.776Z"
   },
   {
    "duration": 3,
    "start_time": "2024-06-08T14:25:34.058Z"
   },
   {
    "duration": 18,
    "start_time": "2024-06-08T14:25:34.354Z"
   },
   {
    "duration": 8,
    "start_time": "2024-06-08T14:25:34.650Z"
   },
   {
    "duration": 9,
    "start_time": "2024-06-08T14:25:34.967Z"
   },
   {
    "duration": 49,
    "start_time": "2024-06-08T14:25:35.349Z"
   },
   {
    "duration": 85,
    "start_time": "2024-06-08T14:25:35.668Z"
   },
   {
    "duration": 6,
    "start_time": "2024-06-08T14:26:02.150Z"
   },
   {
    "duration": 156,
    "start_time": "2024-06-08T14:26:20.376Z"
   },
   {
    "duration": 5,
    "start_time": "2024-06-08T14:26:29.038Z"
   },
   {
    "duration": 10,
    "start_time": "2024-06-08T14:26:29.360Z"
   },
   {
    "duration": 7,
    "start_time": "2024-06-08T14:26:29.625Z"
   },
   {
    "duration": 9,
    "start_time": "2024-06-08T14:26:29.858Z"
   },
   {
    "duration": 57,
    "start_time": "2024-06-08T14:26:30.048Z"
   },
   {
    "duration": 7,
    "start_time": "2024-06-08T14:26:30.265Z"
   },
   {
    "duration": 3,
    "start_time": "2024-06-08T14:26:30.509Z"
   },
   {
    "duration": 73,
    "start_time": "2024-06-08T14:26:30.716Z"
   },
   {
    "duration": 73,
    "start_time": "2024-06-08T14:26:30.910Z"
   },
   {
    "duration": 3,
    "start_time": "2024-06-08T14:26:31.108Z"
   },
   {
    "duration": 4,
    "start_time": "2024-06-08T14:26:31.316Z"
   },
   {
    "duration": 15,
    "start_time": "2024-06-08T14:26:31.541Z"
   },
   {
    "duration": 7,
    "start_time": "2024-06-08T14:26:31.739Z"
   },
   {
    "duration": 8,
    "start_time": "2024-06-08T14:26:31.923Z"
   },
   {
    "duration": 53,
    "start_time": "2024-06-08T14:26:32.146Z"
   },
   {
    "duration": 83,
    "start_time": "2024-06-08T14:26:32.379Z"
   },
   {
    "duration": 25,
    "start_time": "2024-06-08T14:26:52.584Z"
   },
   {
    "duration": 5,
    "start_time": "2024-06-08T14:27:37.250Z"
   },
   {
    "duration": 5,
    "start_time": "2024-06-08T14:28:02.641Z"
   },
   {
    "duration": 12,
    "start_time": "2024-06-08T14:28:02.939Z"
   },
   {
    "duration": 6,
    "start_time": "2024-06-08T14:28:03.151Z"
   },
   {
    "duration": 11,
    "start_time": "2024-06-08T14:28:03.369Z"
   },
   {
    "duration": 54,
    "start_time": "2024-06-08T14:28:03.561Z"
   },
   {
    "duration": 7,
    "start_time": "2024-06-08T14:28:03.771Z"
   },
   {
    "duration": 3,
    "start_time": "2024-06-08T14:28:03.954Z"
   },
   {
    "duration": 74,
    "start_time": "2024-06-08T14:28:04.144Z"
   },
   {
    "duration": 73,
    "start_time": "2024-06-08T14:28:04.325Z"
   },
   {
    "duration": 4,
    "start_time": "2024-06-08T14:28:04.514Z"
   },
   {
    "duration": 4,
    "start_time": "2024-06-08T14:28:04.697Z"
   },
   {
    "duration": 17,
    "start_time": "2024-06-08T14:28:04.877Z"
   },
   {
    "duration": 8,
    "start_time": "2024-06-08T14:28:05.081Z"
   },
   {
    "duration": 8,
    "start_time": "2024-06-08T14:28:05.305Z"
   },
   {
    "duration": 49,
    "start_time": "2024-06-08T14:28:05.500Z"
   },
   {
    "duration": 6,
    "start_time": "2024-06-08T14:28:05.712Z"
   },
   {
    "duration": 86,
    "start_time": "2024-06-08T14:28:06.083Z"
   },
   {
    "duration": 3,
    "start_time": "2024-06-08T14:28:44.523Z"
   },
   {
    "duration": 5,
    "start_time": "2024-06-08T14:28:55.235Z"
   },
   {
    "duration": 11,
    "start_time": "2024-06-08T14:28:55.777Z"
   },
   {
    "duration": 6,
    "start_time": "2024-06-08T14:28:55.970Z"
   },
   {
    "duration": 11,
    "start_time": "2024-06-08T14:28:56.176Z"
   },
   {
    "duration": 56,
    "start_time": "2024-06-08T14:28:56.367Z"
   },
   {
    "duration": 7,
    "start_time": "2024-06-08T14:28:56.555Z"
   },
   {
    "duration": 7,
    "start_time": "2024-06-08T14:28:56.745Z"
   },
   {
    "duration": 71,
    "start_time": "2024-06-08T14:28:56.931Z"
   },
   {
    "duration": 82,
    "start_time": "2024-06-08T14:28:57.122Z"
   },
   {
    "duration": 9,
    "start_time": "2024-06-08T14:28:57.298Z"
   },
   {
    "duration": 3,
    "start_time": "2024-06-08T14:28:57.469Z"
   },
   {
    "duration": 18,
    "start_time": "2024-06-08T14:28:57.660Z"
   },
   {
    "duration": 7,
    "start_time": "2024-06-08T14:28:57.849Z"
   },
   {
    "duration": 8,
    "start_time": "2024-06-08T14:28:58.055Z"
   },
   {
    "duration": 49,
    "start_time": "2024-06-08T14:28:58.326Z"
   },
   {
    "duration": 6,
    "start_time": "2024-06-08T14:28:58.580Z"
   },
   {
    "duration": 122,
    "start_time": "2024-06-08T14:29:15.638Z"
   },
   {
    "duration": 8,
    "start_time": "2024-06-08T14:33:25.855Z"
   },
   {
    "duration": 8,
    "start_time": "2024-06-08T14:35:08.970Z"
   },
   {
    "duration": 10,
    "start_time": "2024-06-08T14:36:31.935Z"
   },
   {
    "duration": 9152,
    "start_time": "2024-06-08T14:38:49.346Z"
   },
   {
    "duration": 9095,
    "start_time": "2024-06-08T14:41:04.349Z"
   },
   {
    "duration": 1183,
    "start_time": "2024-06-08T14:41:50.856Z"
   },
   {
    "duration": 13,
    "start_time": "2024-06-08T14:41:52.043Z"
   },
   {
    "duration": 8,
    "start_time": "2024-06-08T14:41:52.058Z"
   },
   {
    "duration": 12,
    "start_time": "2024-06-08T14:41:52.069Z"
   },
   {
    "duration": 97,
    "start_time": "2024-06-08T14:41:52.085Z"
   },
   {
    "duration": 8,
    "start_time": "2024-06-08T14:41:52.185Z"
   },
   {
    "duration": 4,
    "start_time": "2024-06-08T14:41:52.196Z"
   },
   {
    "duration": 101,
    "start_time": "2024-06-08T14:41:52.203Z"
   },
   {
    "duration": 90,
    "start_time": "2024-06-08T14:41:52.307Z"
   },
   {
    "duration": 4,
    "start_time": "2024-06-08T14:41:52.401Z"
   },
   {
    "duration": 4,
    "start_time": "2024-06-08T14:41:52.410Z"
   },
   {
    "duration": 19,
    "start_time": "2024-06-08T14:41:52.433Z"
   },
   {
    "duration": 8,
    "start_time": "2024-06-08T14:41:52.454Z"
   },
   {
    "duration": 7,
    "start_time": "2024-06-08T14:41:52.468Z"
   },
   {
    "duration": 75,
    "start_time": "2024-06-08T14:41:52.478Z"
   },
   {
    "duration": 6,
    "start_time": "2024-06-08T14:41:52.557Z"
   },
   {
    "duration": 8,
    "start_time": "2024-06-08T14:41:52.567Z"
   },
   {
    "duration": 12,
    "start_time": "2024-06-08T14:41:52.578Z"
   },
   {
    "duration": 48,
    "start_time": "2024-06-08T14:41:52.592Z"
   },
   {
    "duration": 9533,
    "start_time": "2024-06-08T14:41:52.644Z"
   },
   {
    "duration": 7942,
    "start_time": "2024-06-08T14:43:20.795Z"
   },
   {
    "duration": 5,
    "start_time": "2024-06-08T14:45:28.951Z"
   },
   {
    "duration": 6,
    "start_time": "2024-06-08T14:45:55.605Z"
   },
   {
    "duration": 11,
    "start_time": "2024-06-08T14:45:57.115Z"
   },
   {
    "duration": 7,
    "start_time": "2024-06-08T14:45:57.306Z"
   },
   {
    "duration": 9,
    "start_time": "2024-06-08T14:45:57.499Z"
   },
   {
    "duration": 55,
    "start_time": "2024-06-08T14:45:57.689Z"
   },
   {
    "duration": 7,
    "start_time": "2024-06-08T14:45:57.876Z"
   },
   {
    "duration": 4,
    "start_time": "2024-06-08T14:45:58.073Z"
   },
   {
    "duration": 73,
    "start_time": "2024-06-08T14:45:58.254Z"
   },
   {
    "duration": 72,
    "start_time": "2024-06-08T14:45:58.460Z"
   },
   {
    "duration": 4,
    "start_time": "2024-06-08T14:45:58.631Z"
   },
   {
    "duration": 4,
    "start_time": "2024-06-08T14:45:58.840Z"
   },
   {
    "duration": 18,
    "start_time": "2024-06-08T14:45:59.021Z"
   },
   {
    "duration": 7,
    "start_time": "2024-06-08T14:45:59.202Z"
   },
   {
    "duration": 8,
    "start_time": "2024-06-08T14:45:59.390Z"
   },
   {
    "duration": 49,
    "start_time": "2024-06-08T14:45:59.599Z"
   },
   {
    "duration": 7,
    "start_time": "2024-06-08T14:45:59.786Z"
   },
   {
    "duration": 9,
    "start_time": "2024-06-08T14:45:59.979Z"
   },
   {
    "duration": 8,
    "start_time": "2024-06-08T14:46:00.185Z"
   },
   {
    "duration": 9,
    "start_time": "2024-06-08T14:46:00.394Z"
   },
   {
    "duration": 7580,
    "start_time": "2024-06-08T14:46:00.576Z"
   },
   {
    "duration": 4,
    "start_time": "2024-06-08T14:46:23.697Z"
   },
   {
    "duration": 12,
    "start_time": "2024-06-08T14:46:23.942Z"
   },
   {
    "duration": 8,
    "start_time": "2024-06-08T14:46:24.152Z"
   },
   {
    "duration": 11,
    "start_time": "2024-06-08T14:46:24.363Z"
   },
   {
    "duration": 60,
    "start_time": "2024-06-08T14:46:24.570Z"
   },
   {
    "duration": 22,
    "start_time": "2024-06-08T14:46:24.761Z"
   },
   {
    "duration": 3,
    "start_time": "2024-06-08T14:46:24.952Z"
   },
   {
    "duration": 80,
    "start_time": "2024-06-08T14:46:25.146Z"
   },
   {
    "duration": 73,
    "start_time": "2024-06-08T14:46:25.341Z"
   },
   {
    "duration": 3,
    "start_time": "2024-06-08T14:46:25.545Z"
   },
   {
    "duration": 4,
    "start_time": "2024-06-08T14:46:25.720Z"
   },
   {
    "duration": 17,
    "start_time": "2024-06-08T14:46:25.924Z"
   },
   {
    "duration": 8,
    "start_time": "2024-06-08T14:46:26.118Z"
   },
   {
    "duration": 7,
    "start_time": "2024-06-08T14:46:26.307Z"
   },
   {
    "duration": 49,
    "start_time": "2024-06-08T14:46:26.508Z"
   },
   {
    "duration": 7,
    "start_time": "2024-06-08T14:46:26.677Z"
   },
   {
    "duration": 10,
    "start_time": "2024-06-08T14:46:26.871Z"
   },
   {
    "duration": 10,
    "start_time": "2024-06-08T14:46:27.080Z"
   },
   {
    "duration": 10,
    "start_time": "2024-06-08T14:46:27.281Z"
   },
   {
    "duration": 7751,
    "start_time": "2024-06-08T14:46:27.472Z"
   },
   {
    "duration": 4,
    "start_time": "2024-06-08T14:53:33.879Z"
   },
   {
    "duration": 5,
    "start_time": "2024-06-08T14:55:23.577Z"
   },
   {
    "duration": 23,
    "start_time": "2024-06-08T14:55:40.625Z"
   },
   {
    "duration": 31,
    "start_time": "2024-06-08T14:56:30.429Z"
   },
   {
    "duration": 669,
    "start_time": "2024-06-08T14:56:39.887Z"
   },
   {
    "duration": 23,
    "start_time": "2024-06-08T14:58:18.538Z"
   },
   {
    "duration": 135,
    "start_time": "2024-06-08T14:58:32.780Z"
   },
   {
    "duration": 1039,
    "start_time": "2024-06-08T15:00:53.345Z"
   },
   {
    "duration": 1336,
    "start_time": "2024-06-08T15:01:01.491Z"
   },
   {
    "duration": 1700,
    "start_time": "2024-06-08T15:02:22.473Z"
   },
   {
    "duration": 8,
    "start_time": "2024-06-08T15:12:23.331Z"
   },
   {
    "duration": 268,
    "start_time": "2024-06-08T15:12:32.366Z"
   },
   {
    "duration": 5,
    "start_time": "2024-06-08T15:12:44.869Z"
   },
   {
    "duration": 177,
    "start_time": "2024-06-08T15:12:45.287Z"
   },
   {
    "duration": 18,
    "start_time": "2024-06-08T15:13:04.295Z"
   },
   {
    "duration": 7,
    "start_time": "2024-06-08T15:13:04.582Z"
   },
   {
    "duration": 74,
    "start_time": "2024-06-08T15:13:05.327Z"
   },
   {
    "duration": 5,
    "start_time": "2024-06-08T15:13:13.231Z"
   },
   {
    "duration": 11,
    "start_time": "2024-06-08T15:13:13.516Z"
   },
   {
    "duration": 6,
    "start_time": "2024-06-08T15:13:13.784Z"
   },
   {
    "duration": 9,
    "start_time": "2024-06-08T15:13:13.987Z"
   },
   {
    "duration": 54,
    "start_time": "2024-06-08T15:13:14.210Z"
   },
   {
    "duration": 7,
    "start_time": "2024-06-08T15:13:14.435Z"
   },
   {
    "duration": 3,
    "start_time": "2024-06-08T15:13:14.832Z"
   },
   {
    "duration": 73,
    "start_time": "2024-06-08T15:13:15.026Z"
   },
   {
    "duration": 78,
    "start_time": "2024-06-08T15:13:15.201Z"
   },
   {
    "duration": 4,
    "start_time": "2024-06-08T15:13:15.365Z"
   },
   {
    "duration": 4,
    "start_time": "2024-06-08T15:13:15.562Z"
   },
   {
    "duration": 18,
    "start_time": "2024-06-08T15:13:15.744Z"
   },
   {
    "duration": 7,
    "start_time": "2024-06-08T15:13:15.926Z"
   },
   {
    "duration": 8,
    "start_time": "2024-06-08T15:13:16.366Z"
   },
   {
    "duration": 1247,
    "start_time": "2024-06-08T16:18:58.282Z"
   },
   {
    "duration": 21,
    "start_time": "2024-06-08T16:18:59.532Z"
   },
   {
    "duration": 420,
    "start_time": "2024-06-08T16:18:59.556Z"
   },
   {
    "duration": 13,
    "start_time": "2024-06-08T16:19:00.760Z"
   },
   {
    "duration": 23,
    "start_time": "2024-06-08T16:19:27.739Z"
   },
   {
    "duration": 7,
    "start_time": "2024-06-08T16:19:37.446Z"
   },
   {
    "duration": 12,
    "start_time": "2024-06-08T16:20:25.953Z"
   },
   {
    "duration": 11,
    "start_time": "2024-06-08T16:20:26.127Z"
   },
   {
    "duration": 31,
    "start_time": "2024-06-08T16:20:26.324Z"
   },
   {
    "duration": 9,
    "start_time": "2024-06-08T16:20:27.041Z"
   },
   {
    "duration": 17,
    "start_time": "2024-06-08T16:20:32.975Z"
   },
   {
    "duration": 7,
    "start_time": "2024-06-08T16:20:35.024Z"
   },
   {
    "duration": 4,
    "start_time": "2024-06-08T16:20:36.212Z"
   },
   {
    "duration": 79,
    "start_time": "2024-06-08T16:20:36.963Z"
   },
   {
    "duration": 72,
    "start_time": "2024-06-08T16:20:37.241Z"
   },
   {
    "duration": 3,
    "start_time": "2024-06-08T16:20:37.489Z"
   },
   {
    "duration": 3,
    "start_time": "2024-06-08T16:20:38.156Z"
   },
   {
    "duration": 8,
    "start_time": "2024-06-08T16:21:13.449Z"
   },
   {
    "duration": 11,
    "start_time": "2024-06-08T16:21:20.600Z"
   },
   {
    "duration": 6,
    "start_time": "2024-06-08T16:21:20.884Z"
   },
   {
    "duration": 7,
    "start_time": "2024-06-08T16:21:21.176Z"
   },
   {
    "duration": 8,
    "start_time": "2024-06-08T16:21:22.029Z"
   },
   {
    "duration": 7,
    "start_time": "2024-06-08T16:21:23.001Z"
   },
   {
    "duration": 7664,
    "start_time": "2024-06-08T16:21:24.987Z"
   },
   {
    "duration": 4,
    "start_time": "2024-06-08T16:21:32.763Z"
   },
   {
    "duration": 1324,
    "start_time": "2024-06-08T16:21:32.977Z"
   },
   {
    "duration": 1685,
    "start_time": "2024-06-08T16:21:40.859Z"
   },
   {
    "duration": 1696,
    "start_time": "2024-06-08T16:22:03.108Z"
   },
   {
    "duration": 1321,
    "start_time": "2024-06-08T16:22:16.345Z"
   },
   {
    "duration": 7618,
    "start_time": "2024-06-08T16:28:09.128Z"
   },
   {
    "duration": 9,
    "start_time": "2024-06-08T16:33:56.900Z"
   },
   {
    "duration": 4,
    "start_time": "2024-06-08T16:34:23.722Z"
   },
   {
    "duration": 51,
    "start_time": "2024-06-08T16:34:52.149Z"
   },
   {
    "duration": 206,
    "start_time": "2024-06-08T16:35:16.169Z"
   },
   {
    "duration": 9306,
    "start_time": "2024-06-08T16:35:34.303Z"
   },
   {
    "duration": 16,
    "start_time": "2024-06-08T16:35:55.531Z"
   },
   {
    "duration": 1221,
    "start_time": "2024-06-08T16:36:07.540Z"
   },
   {
    "duration": 14,
    "start_time": "2024-06-08T16:36:08.766Z"
   },
   {
    "duration": 408,
    "start_time": "2024-06-08T16:36:08.784Z"
   },
   {
    "duration": 0,
    "start_time": "2024-06-08T16:36:09.202Z"
   },
   {
    "duration": 0,
    "start_time": "2024-06-08T16:36:09.204Z"
   },
   {
    "duration": 0,
    "start_time": "2024-06-08T16:36:09.206Z"
   },
   {
    "duration": 0,
    "start_time": "2024-06-08T16:36:09.208Z"
   },
   {
    "duration": 0,
    "start_time": "2024-06-08T16:36:09.210Z"
   },
   {
    "duration": 0,
    "start_time": "2024-06-08T16:36:09.212Z"
   },
   {
    "duration": 0,
    "start_time": "2024-06-08T16:36:09.215Z"
   },
   {
    "duration": 0,
    "start_time": "2024-06-08T16:36:09.217Z"
   },
   {
    "duration": 0,
    "start_time": "2024-06-08T16:36:09.220Z"
   },
   {
    "duration": 0,
    "start_time": "2024-06-08T16:36:09.221Z"
   },
   {
    "duration": 0,
    "start_time": "2024-06-08T16:36:09.224Z"
   },
   {
    "duration": 0,
    "start_time": "2024-06-08T16:36:09.227Z"
   },
   {
    "duration": 0,
    "start_time": "2024-06-08T16:36:09.230Z"
   },
   {
    "duration": 0,
    "start_time": "2024-06-08T16:36:09.232Z"
   },
   {
    "duration": 0,
    "start_time": "2024-06-08T16:36:09.234Z"
   },
   {
    "duration": 0,
    "start_time": "2024-06-08T16:36:09.236Z"
   },
   {
    "duration": 0,
    "start_time": "2024-06-08T16:36:09.238Z"
   },
   {
    "duration": 0,
    "start_time": "2024-06-08T16:36:09.241Z"
   },
   {
    "duration": 0,
    "start_time": "2024-06-08T16:36:09.243Z"
   },
   {
    "duration": 0,
    "start_time": "2024-06-08T16:36:09.301Z"
   },
   {
    "duration": 0,
    "start_time": "2024-06-08T16:36:09.303Z"
   },
   {
    "duration": 0,
    "start_time": "2024-06-08T16:36:09.304Z"
   },
   {
    "duration": 0,
    "start_time": "2024-06-08T16:36:09.306Z"
   },
   {
    "duration": 0,
    "start_time": "2024-06-08T16:36:09.314Z"
   },
   {
    "duration": 0,
    "start_time": "2024-06-08T16:36:09.316Z"
   },
   {
    "duration": 0,
    "start_time": "2024-06-08T16:36:09.319Z"
   },
   {
    "duration": 0,
    "start_time": "2024-06-08T16:36:09.322Z"
   },
   {
    "duration": 1332,
    "start_time": "2024-06-08T16:36:26.496Z"
   },
   {
    "duration": 12,
    "start_time": "2024-06-08T16:36:27.833Z"
   },
   {
    "duration": 541,
    "start_time": "2024-06-08T16:36:27.848Z"
   },
   {
    "duration": 0,
    "start_time": "2024-06-08T16:36:28.395Z"
   },
   {
    "duration": 0,
    "start_time": "2024-06-08T16:36:28.402Z"
   },
   {
    "duration": 0,
    "start_time": "2024-06-08T16:36:28.403Z"
   },
   {
    "duration": 0,
    "start_time": "2024-06-08T16:36:28.405Z"
   },
   {
    "duration": 0,
    "start_time": "2024-06-08T16:36:28.407Z"
   },
   {
    "duration": 0,
    "start_time": "2024-06-08T16:36:28.409Z"
   },
   {
    "duration": 0,
    "start_time": "2024-06-08T16:36:28.410Z"
   },
   {
    "duration": 0,
    "start_time": "2024-06-08T16:36:28.412Z"
   },
   {
    "duration": 0,
    "start_time": "2024-06-08T16:36:28.414Z"
   },
   {
    "duration": 0,
    "start_time": "2024-06-08T16:36:28.415Z"
   },
   {
    "duration": 0,
    "start_time": "2024-06-08T16:36:28.418Z"
   },
   {
    "duration": 0,
    "start_time": "2024-06-08T16:36:28.420Z"
   },
   {
    "duration": 0,
    "start_time": "2024-06-08T16:36:28.421Z"
   },
   {
    "duration": 0,
    "start_time": "2024-06-08T16:36:28.423Z"
   },
   {
    "duration": 0,
    "start_time": "2024-06-08T16:36:28.425Z"
   },
   {
    "duration": 0,
    "start_time": "2024-06-08T16:36:28.427Z"
   },
   {
    "duration": 0,
    "start_time": "2024-06-08T16:36:28.429Z"
   },
   {
    "duration": 0,
    "start_time": "2024-06-08T16:36:28.430Z"
   },
   {
    "duration": 0,
    "start_time": "2024-06-08T16:36:28.432Z"
   },
   {
    "duration": 0,
    "start_time": "2024-06-08T16:36:28.434Z"
   },
   {
    "duration": 0,
    "start_time": "2024-06-08T16:36:28.435Z"
   },
   {
    "duration": 0,
    "start_time": "2024-06-08T16:36:28.438Z"
   },
   {
    "duration": 0,
    "start_time": "2024-06-08T16:36:28.439Z"
   },
   {
    "duration": 0,
    "start_time": "2024-06-08T16:36:28.441Z"
   },
   {
    "duration": 0,
    "start_time": "2024-06-08T16:36:28.442Z"
   },
   {
    "duration": 0,
    "start_time": "2024-06-08T16:36:28.444Z"
   },
   {
    "duration": 0,
    "start_time": "2024-06-08T16:36:28.504Z"
   },
   {
    "duration": 26,
    "start_time": "2024-06-08T16:36:45.207Z"
   },
   {
    "duration": 26,
    "start_time": "2024-06-08T16:36:59.420Z"
   },
   {
    "duration": 37,
    "start_time": "2024-06-08T16:38:43.414Z"
   },
   {
    "duration": 923,
    "start_time": "2024-06-08T16:39:06.319Z"
   },
   {
    "duration": 32,
    "start_time": "2024-06-08T16:39:48.436Z"
   },
   {
    "duration": 37,
    "start_time": "2024-06-08T16:39:56.337Z"
   },
   {
    "duration": 32,
    "start_time": "2024-06-08T16:40:16.808Z"
   },
   {
    "duration": 257,
    "start_time": "2024-06-08T16:40:21.962Z"
   },
   {
    "duration": 14,
    "start_time": "2024-06-08T16:42:21.150Z"
   },
   {
    "duration": 87,
    "start_time": "2024-06-08T16:42:21.421Z"
   },
   {
    "duration": 88,
    "start_time": "2024-06-08T16:42:33.948Z"
   },
   {
    "duration": 85,
    "start_time": "2024-06-08T16:42:58.490Z"
   },
   {
    "duration": 13,
    "start_time": "2024-06-08T16:43:28.292Z"
   },
   {
    "duration": 162,
    "start_time": "2024-06-08T16:43:29.002Z"
   },
   {
    "duration": 76,
    "start_time": "2024-06-08T16:43:34.679Z"
   },
   {
    "duration": 77,
    "start_time": "2024-06-08T16:43:55.642Z"
   },
   {
    "duration": 19,
    "start_time": "2024-06-08T16:44:49.603Z"
   },
   {
    "duration": 12,
    "start_time": "2024-06-08T16:44:55.469Z"
   },
   {
    "duration": 18,
    "start_time": "2024-06-08T16:45:11.473Z"
   },
   {
    "duration": 7,
    "start_time": "2024-06-08T16:45:12.790Z"
   },
   {
    "duration": 4,
    "start_time": "2024-06-08T16:45:14.081Z"
   },
   {
    "duration": 76,
    "start_time": "2024-06-08T16:45:14.373Z"
   },
   {
    "duration": 72,
    "start_time": "2024-06-08T16:45:14.670Z"
   },
   {
    "duration": 3,
    "start_time": "2024-06-08T16:45:14.931Z"
   },
   {
    "duration": 3,
    "start_time": "2024-06-08T16:45:15.227Z"
   },
   {
    "duration": 80,
    "start_time": "2024-06-08T16:45:15.525Z"
   },
   {
    "duration": 25,
    "start_time": "2024-06-08T16:45:16.083Z"
   },
   {
    "duration": 11,
    "start_time": "2024-06-08T16:45:24.815Z"
   },
   {
    "duration": 20,
    "start_time": "2024-06-08T16:45:29.115Z"
   },
   {
    "duration": 8,
    "start_time": "2024-06-08T16:45:29.786Z"
   },
   {
    "duration": 6,
    "start_time": "2024-06-08T16:45:30.247Z"
   },
   {
    "duration": 10,
    "start_time": "2024-06-08T16:45:30.997Z"
   },
   {
    "duration": 3,
    "start_time": "2024-06-08T16:45:31.761Z"
   },
   {
    "duration": 25,
    "start_time": "2024-06-08T16:45:34.209Z"
   },
   {
    "duration": 72,
    "start_time": "2024-06-08T16:45:34.742Z"
   },
   {
    "duration": 53,
    "start_time": "2024-06-08T16:45:35.310Z"
   },
   {
    "duration": 12,
    "start_time": "2024-06-08T16:45:35.842Z"
   },
   {
    "duration": 23,
    "start_time": "2024-06-08T16:45:37.101Z"
   },
   {
    "duration": 7,
    "start_time": "2024-06-08T16:45:37.492Z"
   },
   {
    "duration": 7,
    "start_time": "2024-06-08T16:45:37.911Z"
   },
   {
    "duration": 7,
    "start_time": "2024-06-08T16:45:38.736Z"
   },
   {
    "duration": 8,
    "start_time": "2024-06-08T16:45:39.447Z"
   },
   {
    "duration": 4531,
    "start_time": "2024-06-08T16:45:40.579Z"
   },
   {
    "duration": 5,
    "start_time": "2024-06-08T16:45:45.114Z"
   },
   {
    "duration": 481,
    "start_time": "2024-06-08T16:45:45.122Z"
   },
   {
    "duration": 22,
    "start_time": "2024-06-08T16:45:45.607Z"
   },
   {
    "duration": 50,
    "start_time": "2024-06-08T16:46:14.823Z"
   },
   {
    "duration": 12,
    "start_time": "2024-06-08T16:46:16.053Z"
   },
   {
    "duration": 17,
    "start_time": "2024-06-08T16:51:40.301Z"
   },
   {
    "duration": 310,
    "start_time": "2024-06-09T17:32:45.074Z"
   },
   {
    "duration": 1241,
    "start_time": "2024-06-09T17:32:52.113Z"
   },
   {
    "duration": 16,
    "start_time": "2024-06-09T17:32:53.357Z"
   },
   {
    "duration": 142,
    "start_time": "2024-06-09T17:32:53.376Z"
   },
   {
    "duration": 11,
    "start_time": "2024-06-09T17:32:53.585Z"
   },
   {
    "duration": 28,
    "start_time": "2024-06-09T17:32:54.607Z"
   },
   {
    "duration": 16,
    "start_time": "2024-06-09T17:33:17.668Z"
   },
   {
    "duration": 8,
    "start_time": "2024-06-09T17:34:06.405Z"
   },
   {
    "duration": 7,
    "start_time": "2024-06-09T17:34:11.879Z"
   },
   {
    "duration": 8,
    "start_time": "2024-06-09T17:34:16.126Z"
   },
   {
    "duration": 25,
    "start_time": "2024-06-09T17:35:20.452Z"
   },
   {
    "duration": 9,
    "start_time": "2024-06-09T17:35:20.759Z"
   },
   {
    "duration": 7,
    "start_time": "2024-06-09T17:35:21.135Z"
   },
   {
    "duration": 10,
    "start_time": "2024-06-09T17:35:21.613Z"
   },
   {
    "duration": 5,
    "start_time": "2024-06-09T17:35:23.833Z"
   },
   {
    "duration": 55,
    "start_time": "2024-06-09T17:35:24.492Z"
   },
   {
    "duration": 201,
    "start_time": "2024-06-09T17:35:25.116Z"
   },
   {
    "duration": 10490,
    "start_time": "2024-06-09T17:35:25.918Z"
   },
   {
    "duration": 91,
    "start_time": "2024-06-09T17:35:36.412Z"
   },
   {
    "duration": 348,
    "start_time": "2024-06-09T17:36:31.206Z"
   },
   {
    "duration": 1222,
    "start_time": "2024-06-09T17:36:39.388Z"
   },
   {
    "duration": 14,
    "start_time": "2024-06-09T17:36:40.613Z"
   },
   {
    "duration": 437,
    "start_time": "2024-06-09T17:36:40.630Z"
   },
   {
    "duration": 0,
    "start_time": "2024-06-09T17:36:41.071Z"
   },
   {
    "duration": 0,
    "start_time": "2024-06-09T17:36:41.074Z"
   },
   {
    "duration": 0,
    "start_time": "2024-06-09T17:36:41.077Z"
   },
   {
    "duration": 0,
    "start_time": "2024-06-09T17:36:41.080Z"
   },
   {
    "duration": 0,
    "start_time": "2024-06-09T17:36:41.082Z"
   },
   {
    "duration": 0,
    "start_time": "2024-06-09T17:36:41.084Z"
   },
   {
    "duration": 0,
    "start_time": "2024-06-09T17:36:41.102Z"
   },
   {
    "duration": 0,
    "start_time": "2024-06-09T17:36:41.104Z"
   },
   {
    "duration": 0,
    "start_time": "2024-06-09T17:36:41.106Z"
   },
   {
    "duration": 0,
    "start_time": "2024-06-09T17:36:41.108Z"
   },
   {
    "duration": 0,
    "start_time": "2024-06-09T17:36:41.112Z"
   },
   {
    "duration": 0,
    "start_time": "2024-06-09T17:36:41.115Z"
   },
   {
    "duration": 0,
    "start_time": "2024-06-09T17:36:41.117Z"
   },
   {
    "duration": 0,
    "start_time": "2024-06-09T17:36:41.119Z"
   },
   {
    "duration": 0,
    "start_time": "2024-06-09T17:36:41.121Z"
   },
   {
    "duration": 0,
    "start_time": "2024-06-09T17:36:41.123Z"
   },
   {
    "duration": 0,
    "start_time": "2024-06-09T17:36:41.126Z"
   },
   {
    "duration": 0,
    "start_time": "2024-06-09T17:36:41.127Z"
   },
   {
    "duration": 0,
    "start_time": "2024-06-09T17:36:41.129Z"
   },
   {
    "duration": 0,
    "start_time": "2024-06-09T17:36:41.131Z"
   },
   {
    "duration": 0,
    "start_time": "2024-06-09T17:36:41.133Z"
   },
   {
    "duration": 31,
    "start_time": "2024-06-09T17:37:05.045Z"
   },
   {
    "duration": 19,
    "start_time": "2024-06-09T17:37:33.129Z"
   },
   {
    "duration": 18,
    "start_time": "2024-06-09T17:38:19.465Z"
   },
   {
    "duration": 8,
    "start_time": "2024-06-09T17:38:40.410Z"
   },
   {
    "duration": 8,
    "start_time": "2024-06-09T17:39:10.598Z"
   },
   {
    "duration": 4,
    "start_time": "2024-06-09T17:39:12.182Z"
   },
   {
    "duration": 154,
    "start_time": "2024-06-09T17:39:32.346Z"
   },
   {
    "duration": 220,
    "start_time": "2024-06-09T17:39:37.169Z"
   },
   {
    "duration": 4,
    "start_time": "2024-06-09T17:39:37.636Z"
   },
   {
    "duration": 78,
    "start_time": "2024-06-09T17:39:38.538Z"
   },
   {
    "duration": 280,
    "start_time": "2024-06-09T17:39:51.437Z"
   },
   {
    "duration": 93,
    "start_time": "2024-06-09T17:39:58.593Z"
   },
   {
    "duration": 12,
    "start_time": "2024-06-09T17:40:09.917Z"
   },
   {
    "duration": 36,
    "start_time": "2024-06-09T17:40:12.260Z"
   },
   {
    "duration": 195,
    "start_time": "2024-06-09T17:40:12.618Z"
   },
   {
    "duration": 10,
    "start_time": "2024-06-09T17:40:15.436Z"
   },
   {
    "duration": 54,
    "start_time": "2024-06-09T17:42:04.527Z"
   },
   {
    "duration": 54,
    "start_time": "2024-06-09T17:42:52.963Z"
   },
   {
    "duration": 5,
    "start_time": "2024-06-09T17:43:02.733Z"
   },
   {
    "duration": 12,
    "start_time": "2024-06-09T17:43:02.962Z"
   },
   {
    "duration": 16,
    "start_time": "2024-06-09T17:43:03.175Z"
   },
   {
    "duration": 11,
    "start_time": "2024-06-09T17:43:04.028Z"
   },
   {
    "duration": 17,
    "start_time": "2024-06-09T17:43:04.655Z"
   },
   {
    "duration": 7,
    "start_time": "2024-06-09T17:43:05.527Z"
   },
   {
    "duration": 25,
    "start_time": "2024-06-09T17:43:08.021Z"
   },
   {
    "duration": 8,
    "start_time": "2024-06-09T17:43:08.224Z"
   },
   {
    "duration": 8,
    "start_time": "2024-06-09T17:43:08.426Z"
   },
   {
    "duration": 9,
    "start_time": "2024-06-09T17:43:08.665Z"
   },
   {
    "duration": 3,
    "start_time": "2024-06-09T17:43:10.432Z"
   },
   {
    "duration": 53,
    "start_time": "2024-06-09T17:43:16.424Z"
   },
   {
    "duration": 207,
    "start_time": "2024-06-09T17:43:16.987Z"
   },
   {
    "duration": 10263,
    "start_time": "2024-06-09T17:43:17.357Z"
   },
   {
    "duration": 90,
    "start_time": "2024-06-09T17:43:27.624Z"
   },
   {
    "duration": 50,
    "start_time": "2024-06-09T17:45:47.386Z"
   },
   {
    "duration": 7,
    "start_time": "2024-06-09T17:45:47.739Z"
   },
   {
    "duration": 12,
    "start_time": "2024-06-09T17:45:48.094Z"
   },
   {
    "duration": 114,
    "start_time": "2024-06-09T17:45:49.549Z"
   },
   {
    "duration": 132,
    "start_time": "2024-06-09T17:46:05.210Z"
   },
   {
    "duration": 8,
    "start_time": "2024-06-09T17:46:22.963Z"
   },
   {
    "duration": 7,
    "start_time": "2024-06-09T17:46:33.112Z"
   },
   {
    "duration": 102,
    "start_time": "2024-06-09T17:50:37.511Z"
   },
   {
    "duration": 8,
    "start_time": "2024-06-09T17:52:26.451Z"
   },
   {
    "duration": 8,
    "start_time": "2024-06-09T17:52:45.612Z"
   },
   {
    "duration": 8,
    "start_time": "2024-06-09T17:52:51.699Z"
   },
   {
    "duration": 8,
    "start_time": "2024-06-09T17:53:15.872Z"
   },
   {
    "duration": 47,
    "start_time": "2024-06-09T17:53:24.548Z"
   },
   {
    "duration": 6,
    "start_time": "2024-06-09T17:53:24.871Z"
   },
   {
    "duration": 8,
    "start_time": "2024-06-09T17:53:25.202Z"
   },
   {
    "duration": 8,
    "start_time": "2024-06-09T17:53:25.983Z"
   },
   {
    "duration": 98,
    "start_time": "2024-06-09T17:53:26.714Z"
   },
   {
    "duration": 10,
    "start_time": "2024-06-09T17:53:38.139Z"
   },
   {
    "duration": 7,
    "start_time": "2024-06-09T17:53:45.098Z"
   },
   {
    "duration": 8,
    "start_time": "2024-06-09T17:53:50.646Z"
   },
   {
    "duration": 9,
    "start_time": "2024-06-09T17:53:56.467Z"
   },
   {
    "duration": 9,
    "start_time": "2024-06-09T17:55:02.718Z"
   },
   {
    "duration": 8,
    "start_time": "2024-06-09T17:55:03.733Z"
   },
   {
    "duration": 81,
    "start_time": "2024-06-09T17:57:14.273Z"
   },
   {
    "duration": 86,
    "start_time": "2024-06-09T17:57:33.697Z"
   },
   {
    "duration": 85,
    "start_time": "2024-06-09T17:57:51.731Z"
   },
   {
    "duration": 23,
    "start_time": "2024-06-09T17:58:05.734Z"
   },
   {
    "duration": 9,
    "start_time": "2024-06-09T17:58:14.313Z"
   },
   {
    "duration": 7,
    "start_time": "2024-06-09T17:58:26.532Z"
   },
   {
    "duration": 8,
    "start_time": "2024-06-09T17:58:29.639Z"
   },
   {
    "duration": 10,
    "start_time": "2024-06-09T17:58:36.542Z"
   },
   {
    "duration": 9,
    "start_time": "2024-06-09T17:59:25.727Z"
   },
   {
    "duration": 9,
    "start_time": "2024-06-09T17:59:33.766Z"
   },
   {
    "duration": 8084,
    "start_time": "2024-06-09T18:02:26.111Z"
   },
   {
    "duration": 6,
    "start_time": "2024-06-09T18:04:57.167Z"
   },
   {
    "duration": 10,
    "start_time": "2024-06-09T18:04:58.051Z"
   },
   {
    "duration": 17,
    "start_time": "2024-06-09T18:04:58.338Z"
   },
   {
    "duration": 9,
    "start_time": "2024-06-09T18:04:59.245Z"
   },
   {
    "duration": 17,
    "start_time": "2024-06-09T18:04:59.812Z"
   },
   {
    "duration": 7,
    "start_time": "2024-06-09T18:05:00.562Z"
   },
   {
    "duration": 20,
    "start_time": "2024-06-09T18:05:02.844Z"
   },
   {
    "duration": 9,
    "start_time": "2024-06-09T18:05:02.989Z"
   },
   {
    "duration": 8,
    "start_time": "2024-06-09T18:05:03.170Z"
   },
   {
    "duration": 9,
    "start_time": "2024-06-09T18:05:03.347Z"
   },
   {
    "duration": 3,
    "start_time": "2024-06-09T18:05:03.760Z"
   },
   {
    "duration": 53,
    "start_time": "2024-06-09T18:05:03.939Z"
   },
   {
    "duration": 202,
    "start_time": "2024-06-09T18:05:04.144Z"
   },
   {
    "duration": 7657,
    "start_time": "2024-06-09T18:05:04.352Z"
   },
   {
    "duration": 89,
    "start_time": "2024-06-09T18:05:12.012Z"
   },
   {
    "duration": 26035,
    "start_time": "2024-06-09T18:05:39.833Z"
   },
   {
    "duration": 366,
    "start_time": "2024-06-10T17:44:44.719Z"
   },
   {
    "duration": 1187,
    "start_time": "2024-06-10T17:45:18.894Z"
   },
   {
    "duration": 18,
    "start_time": "2024-06-10T17:45:20.084Z"
   },
   {
    "duration": 32,
    "start_time": "2024-06-10T17:45:20.105Z"
   },
   {
    "duration": 12,
    "start_time": "2024-06-10T17:45:20.140Z"
   },
   {
    "duration": 32,
    "start_time": "2024-06-10T17:45:20.158Z"
   },
   {
    "duration": 8,
    "start_time": "2024-06-10T17:45:20.193Z"
   },
   {
    "duration": 52,
    "start_time": "2024-06-10T17:45:20.236Z"
   },
   {
    "duration": 10,
    "start_time": "2024-06-10T17:45:20.291Z"
   },
   {
    "duration": 7,
    "start_time": "2024-06-10T17:45:20.304Z"
   },
   {
    "duration": 9,
    "start_time": "2024-06-10T17:45:20.314Z"
   },
   {
    "duration": 3,
    "start_time": "2024-06-10T17:45:20.326Z"
   },
   {
    "duration": 52,
    "start_time": "2024-06-10T17:45:20.335Z"
   },
   {
    "duration": 222,
    "start_time": "2024-06-10T17:45:20.390Z"
   },
   {
    "duration": 9930,
    "start_time": "2024-06-10T17:45:20.617Z"
   },
   {
    "duration": 87,
    "start_time": "2024-06-10T17:45:30.550Z"
   },
   {
    "duration": 25825,
    "start_time": "2024-06-10T17:45:30.640Z"
   },
   {
    "duration": 47,
    "start_time": "2024-06-10T17:45:56.468Z"
   },
   {
    "duration": 6,
    "start_time": "2024-06-10T17:45:56.534Z"
   },
   {
    "duration": 13,
    "start_time": "2024-06-10T17:45:56.543Z"
   },
   {
    "duration": 11,
    "start_time": "2024-06-10T17:45:56.559Z"
   },
   {
    "duration": 11,
    "start_time": "2024-06-10T17:45:56.573Z"
   },
   {
    "duration": 7548,
    "start_time": "2024-06-10T17:45:56.587Z"
   },
   {
    "duration": 5,
    "start_time": "2024-06-10T17:46:04.138Z"
   },
   {
    "duration": 1196,
    "start_time": "2024-06-10T17:46:04.146Z"
   },
   {
    "duration": 1728,
    "start_time": "2024-06-10T17:46:05.345Z"
   },
   {
    "duration": 717,
    "start_time": "2024-06-10T17:46:53.710Z"
   },
   {
    "duration": 100,
    "start_time": "2024-06-10T17:47:04.835Z"
   },
   {
    "duration": 47,
    "start_time": "2024-06-10T17:47:16.061Z"
   },
   {
    "duration": 6,
    "start_time": "2024-06-10T17:47:16.392Z"
   },
   {
    "duration": 127,
    "start_time": "2024-06-10T17:47:16.663Z"
   },
   {
    "duration": 29,
    "start_time": "2024-06-10T17:51:51.228Z"
   },
   {
    "duration": 9,
    "start_time": "2024-06-10T17:52:07.536Z"
   },
   {
    "duration": 7,
    "start_time": "2024-06-10T17:52:28.933Z"
   },
   {
    "duration": 8,
    "start_time": "2024-06-10T17:52:50.885Z"
   },
   {
    "duration": 7,
    "start_time": "2024-06-10T17:53:27.950Z"
   },
   {
    "duration": 49,
    "start_time": "2024-06-10T17:55:01.676Z"
   },
   {
    "duration": 190,
    "start_time": "2024-06-10T17:55:05.228Z"
   },
   {
    "duration": 7594,
    "start_time": "2024-06-10T17:55:06.040Z"
   },
   {
    "duration": 15,
    "start_time": "2024-06-10T17:55:13.641Z"
   },
   {
    "duration": 25,
    "start_time": "2024-06-10T17:58:29.784Z"
   },
   {
    "duration": 9,
    "start_time": "2024-06-10T17:58:39.686Z"
   },
   {
    "duration": 1274,
    "start_time": "2024-06-10T17:59:45.733Z"
   },
   {
    "duration": 12,
    "start_time": "2024-06-10T17:59:47.011Z"
   },
   {
    "duration": 18,
    "start_time": "2024-06-10T17:59:47.034Z"
   },
   {
    "duration": 11,
    "start_time": "2024-06-10T17:59:47.057Z"
   },
   {
    "duration": 63,
    "start_time": "2024-06-10T17:59:47.071Z"
   },
   {
    "duration": 9,
    "start_time": "2024-06-10T17:59:47.139Z"
   },
   {
    "duration": 45,
    "start_time": "2024-06-10T17:59:47.151Z"
   },
   {
    "duration": 11,
    "start_time": "2024-06-10T17:59:47.200Z"
   },
   {
    "duration": 7,
    "start_time": "2024-06-10T17:59:47.213Z"
   },
   {
    "duration": 3,
    "start_time": "2024-06-10T17:59:47.236Z"
   },
   {
    "duration": 23,
    "start_time": "2024-06-10T17:59:47.243Z"
   },
   {
    "duration": 95,
    "start_time": "2024-06-10T17:59:47.269Z"
   },
   {
    "duration": 43,
    "start_time": "2024-06-10T17:59:47.367Z"
   },
   {
    "duration": 26,
    "start_time": "2024-06-10T17:59:47.412Z"
   },
   {
    "duration": 10,
    "start_time": "2024-06-10T17:59:47.440Z"
   },
   {
    "duration": 17,
    "start_time": "2024-06-10T18:02:22.235Z"
   },
   {
    "duration": 32,
    "start_time": "2024-06-10T18:02:22.255Z"
   },
   {
    "duration": 44,
    "start_time": "2024-06-10T18:02:22.290Z"
   },
   {
    "duration": 33,
    "start_time": "2024-06-10T18:02:22.337Z"
   },
   {
    "duration": 10,
    "start_time": "2024-06-10T18:02:22.374Z"
   },
   {
    "duration": 8,
    "start_time": "2024-06-10T18:02:22.387Z"
   },
   {
    "duration": 3,
    "start_time": "2024-06-10T18:02:22.398Z"
   },
   {
    "duration": 40,
    "start_time": "2024-06-10T18:02:22.404Z"
   },
   {
    "duration": 71,
    "start_time": "2024-06-10T18:02:22.448Z"
   },
   {
    "duration": 42,
    "start_time": "2024-06-10T18:02:22.533Z"
   },
   {
    "duration": 11,
    "start_time": "2024-06-10T18:02:22.578Z"
   },
   {
    "duration": 9,
    "start_time": "2024-06-10T18:02:22.592Z"
   },
   {
    "duration": 1384,
    "start_time": "2024-06-10T18:02:27.106Z"
   },
   {
    "duration": 15,
    "start_time": "2024-06-10T18:02:28.498Z"
   },
   {
    "duration": 27,
    "start_time": "2024-06-10T18:02:28.517Z"
   },
   {
    "duration": 21,
    "start_time": "2024-06-10T18:02:28.548Z"
   },
   {
    "duration": 60,
    "start_time": "2024-06-10T18:02:28.574Z"
   },
   {
    "duration": 8,
    "start_time": "2024-06-10T18:02:28.637Z"
   },
   {
    "duration": 39,
    "start_time": "2024-06-10T18:02:28.648Z"
   },
   {
    "duration": 14,
    "start_time": "2024-06-10T18:02:28.695Z"
   },
   {
    "duration": 22,
    "start_time": "2024-06-10T18:02:28.713Z"
   },
   {
    "duration": 5,
    "start_time": "2024-06-10T18:02:28.739Z"
   },
   {
    "duration": 42,
    "start_time": "2024-06-10T18:02:28.750Z"
   },
   {
    "duration": 113,
    "start_time": "2024-06-10T18:02:28.797Z"
   },
   {
    "duration": 61,
    "start_time": "2024-06-10T18:02:28.913Z"
   },
   {
    "duration": 12,
    "start_time": "2024-06-10T18:02:28.980Z"
   },
   {
    "duration": 11,
    "start_time": "2024-06-10T18:02:28.997Z"
   },
   {
    "duration": 0,
    "start_time": "2024-06-10T18:04:08.374Z"
   },
   {
    "duration": 0,
    "start_time": "2024-06-10T18:04:08.376Z"
   },
   {
    "duration": 0,
    "start_time": "2024-06-10T18:04:08.378Z"
   },
   {
    "duration": 0,
    "start_time": "2024-06-10T18:04:08.380Z"
   },
   {
    "duration": 0,
    "start_time": "2024-06-10T18:04:08.382Z"
   },
   {
    "duration": 0,
    "start_time": "2024-06-10T18:04:08.385Z"
   },
   {
    "duration": 0,
    "start_time": "2024-06-10T18:04:08.387Z"
   },
   {
    "duration": 0,
    "start_time": "2024-06-10T18:04:08.390Z"
   },
   {
    "duration": 0,
    "start_time": "2024-06-10T18:04:08.392Z"
   },
   {
    "duration": 0,
    "start_time": "2024-06-10T18:04:08.394Z"
   },
   {
    "duration": 0,
    "start_time": "2024-06-10T18:04:08.435Z"
   },
   {
    "duration": 0,
    "start_time": "2024-06-10T18:04:08.437Z"
   },
   {
    "duration": 0,
    "start_time": "2024-06-10T18:04:08.439Z"
   },
   {
    "duration": 64330,
    "start_time": "2024-06-10T18:04:12.566Z"
   },
   {
    "duration": 66133,
    "start_time": "2024-06-10T18:05:16.900Z"
   },
   {
    "duration": 204,
    "start_time": "2024-06-10T18:06:23.037Z"
   },
   {
    "duration": 9,
    "start_time": "2024-06-10T18:06:23.244Z"
   },
   {
    "duration": 176,
    "start_time": "2024-06-10T18:06:23.258Z"
   },
   {
    "duration": 6,
    "start_time": "2024-06-10T18:06:23.437Z"
   },
   {
    "duration": 8,
    "start_time": "2024-06-10T18:06:23.446Z"
   },
   {
    "duration": 8,
    "start_time": "2024-06-10T18:06:23.456Z"
   },
   {
    "duration": 8,
    "start_time": "2024-06-10T18:06:23.467Z"
   },
   {
    "duration": 4481,
    "start_time": "2024-06-10T18:06:23.478Z"
   },
   {
    "duration": 5,
    "start_time": "2024-06-10T18:06:27.963Z"
   },
   {
    "duration": 465,
    "start_time": "2024-06-10T18:06:27.971Z"
   },
   {
    "duration": 18,
    "start_time": "2024-06-10T18:06:28.438Z"
   },
   {
    "duration": 5,
    "start_time": "2024-06-10T18:10:43.180Z"
   },
   {
    "duration": 10,
    "start_time": "2024-06-10T18:10:43.955Z"
   },
   {
    "duration": 9,
    "start_time": "2024-06-10T18:10:44.628Z"
   },
   {
    "duration": 17,
    "start_time": "2024-06-10T18:10:46.250Z"
   },
   {
    "duration": 31,
    "start_time": "2024-06-10T18:10:52.727Z"
   },
   {
    "duration": 8,
    "start_time": "2024-06-10T18:10:57.991Z"
   },
   {
    "duration": 40,
    "start_time": "2024-06-10T18:11:07.890Z"
   },
   {
    "duration": 11,
    "start_time": "2024-06-10T18:11:09.466Z"
   },
   {
    "duration": 9,
    "start_time": "2024-06-10T18:11:10.204Z"
   },
   {
    "duration": 4,
    "start_time": "2024-06-10T18:11:11.545Z"
   },
   {
    "duration": 23,
    "start_time": "2024-06-10T18:11:11.955Z"
   },
   {
    "duration": 13,
    "start_time": "2024-06-10T18:12:29.830Z"
   },
   {
    "duration": 23,
    "start_time": "2024-06-10T18:12:57.357Z"
   },
   {
    "duration": 69,
    "start_time": "2024-06-10T18:12:58.494Z"
   },
   {
    "duration": 42,
    "start_time": "2024-06-10T18:12:59.615Z"
   },
   {
    "duration": 402,
    "start_time": "2024-06-10T18:13:36.518Z"
   },
   {
    "duration": 69,
    "start_time": "2024-06-10T18:13:50.727Z"
   },
   {
    "duration": 43,
    "start_time": "2024-06-10T18:13:51.601Z"
   },
   {
    "duration": 13,
    "start_time": "2024-06-10T18:14:00.699Z"
   },
   {
    "duration": 9,
    "start_time": "2024-06-10T18:14:02.984Z"
   },
   {
    "duration": 66129,
    "start_time": "2024-06-10T18:14:03.461Z"
   },
   {
    "duration": 63343,
    "start_time": "2024-06-10T18:15:09.595Z"
   },
   {
    "duration": 205,
    "start_time": "2024-06-10T18:16:12.944Z"
   },
   {
    "duration": 77,
    "start_time": "2024-06-10T18:16:13.157Z"
   },
   {
    "duration": 96,
    "start_time": "2024-06-10T18:16:13.243Z"
   },
   {
    "duration": 6,
    "start_time": "2024-06-10T18:16:13.341Z"
   },
   {
    "duration": 7,
    "start_time": "2024-06-10T18:16:13.351Z"
   },
   {
    "duration": 8,
    "start_time": "2024-06-10T18:16:13.360Z"
   },
   {
    "duration": 1195,
    "start_time": "2024-06-10T18:21:42.922Z"
   },
   {
    "duration": 16,
    "start_time": "2024-06-10T18:21:44.120Z"
   },
   {
    "duration": 11,
    "start_time": "2024-06-10T18:21:44.139Z"
   },
   {
    "duration": 16,
    "start_time": "2024-06-10T18:21:44.155Z"
   },
   {
    "duration": 58,
    "start_time": "2024-06-10T18:21:44.177Z"
   },
   {
    "duration": 8,
    "start_time": "2024-06-10T18:21:44.238Z"
   },
   {
    "duration": 43,
    "start_time": "2024-06-10T18:21:44.250Z"
   },
   {
    "duration": 11,
    "start_time": "2024-06-10T18:21:44.295Z"
   },
   {
    "duration": 8,
    "start_time": "2024-06-10T18:21:44.309Z"
   },
   {
    "duration": 3,
    "start_time": "2024-06-10T18:21:44.323Z"
   },
   {
    "duration": 23,
    "start_time": "2024-06-10T18:21:44.335Z"
   },
   {
    "duration": 91,
    "start_time": "2024-06-10T18:21:44.361Z"
   },
   {
    "duration": 42,
    "start_time": "2024-06-10T18:21:44.455Z"
   },
   {
    "duration": 35,
    "start_time": "2024-06-10T18:21:44.500Z"
   },
   {
    "duration": 9,
    "start_time": "2024-06-10T18:21:44.538Z"
   },
   {
    "duration": 67103,
    "start_time": "2024-06-10T18:21:44.550Z"
   },
   {
    "duration": 37,
    "start_time": "2024-06-10T18:22:51.656Z"
   },
   {
    "duration": 104,
    "start_time": "2024-06-10T18:26:57.052Z"
   },
   {
    "duration": 5,
    "start_time": "2024-06-10T18:26:57.159Z"
   },
   {
    "duration": 66,
    "start_time": "2024-06-10T18:26:57.168Z"
   },
   {
    "duration": 8,
    "start_time": "2024-06-10T18:26:57.237Z"
   },
   {
    "duration": 7,
    "start_time": "2024-06-10T18:26:57.248Z"
   },
   {
    "duration": 4416,
    "start_time": "2024-06-10T18:26:57.258Z"
   },
   {
    "duration": 5,
    "start_time": "2024-06-10T18:27:01.676Z"
   },
   {
    "duration": 461,
    "start_time": "2024-06-10T18:27:01.689Z"
   },
   {
    "duration": 17,
    "start_time": "2024-06-10T18:27:02.154Z"
   },
   {
    "duration": 21290,
    "start_time": "2024-06-10T18:27:02.174Z"
   },
   {
    "duration": 7931,
    "start_time": "2024-06-10T18:27:23.468Z"
   },
   {
    "duration": 13371,
    "start_time": "2024-06-10T18:27:31.402Z"
   },
   {
    "duration": 8,
    "start_time": "2024-06-10T18:27:44.775Z"
   },
   {
    "duration": 1211,
    "start_time": "2024-06-11T12:29:25.479Z"
   },
   {
    "duration": 18,
    "start_time": "2024-06-11T12:29:26.693Z"
   },
   {
    "duration": 21,
    "start_time": "2024-06-11T12:29:26.713Z"
   },
   {
    "duration": 17,
    "start_time": "2024-06-11T12:29:26.741Z"
   },
   {
    "duration": 21,
    "start_time": "2024-06-11T12:36:48.121Z"
   },
   {
    "duration": 9,
    "start_time": "2024-06-11T12:46:58.380Z"
   },
   {
    "duration": 10,
    "start_time": "2024-06-11T12:47:06.340Z"
   },
   {
    "duration": 4,
    "start_time": "2024-06-11T12:47:07.375Z"
   },
   {
    "duration": 7891,
    "start_time": "2024-06-11T12:47:08.972Z"
   },
   {
    "duration": 17668,
    "start_time": "2024-06-11T12:47:29.201Z"
   },
   {
    "duration": 61,
    "start_time": "2024-06-11T12:47:46.873Z"
   },
   {
    "duration": 17,
    "start_time": "2024-06-11T12:47:52.997Z"
   },
   {
    "duration": 18,
    "start_time": "2024-06-11T12:47:56.904Z"
   },
   {
    "duration": 6,
    "start_time": "2024-06-11T12:48:07.617Z"
   },
   {
    "duration": 7,
    "start_time": "2024-06-11T12:48:17.351Z"
   },
   {
    "duration": 320,
    "start_time": "2024-06-11T15:00:56.997Z"
   },
   {
    "duration": 31,
    "start_time": "2024-06-11T15:01:01.482Z"
   },
   {
    "duration": 1221,
    "start_time": "2024-06-11T15:01:06.295Z"
   },
   {
    "duration": 18,
    "start_time": "2024-06-11T15:01:07.519Z"
   },
   {
    "duration": 12,
    "start_time": "2024-06-11T15:01:07.540Z"
   },
   {
    "duration": 16,
    "start_time": "2024-06-11T15:01:07.558Z"
   },
   {
    "duration": 32,
    "start_time": "2024-06-11T15:01:10.751Z"
   },
   {
    "duration": 14,
    "start_time": "2024-06-11T15:01:52.320Z"
   },
   {
    "duration": 125,
    "start_time": "2024-06-11T15:03:34.636Z"
   },
   {
    "duration": 14,
    "start_time": "2024-06-11T15:04:00.621Z"
   },
   {
    "duration": 106,
    "start_time": "2024-06-11T15:04:07.049Z"
   },
   {
    "duration": 64,
    "start_time": "2024-06-11T15:04:07.429Z"
   },
   {
    "duration": 75,
    "start_time": "2024-06-11T15:04:17.185Z"
   },
   {
    "duration": 79,
    "start_time": "2024-06-11T15:04:18.174Z"
   },
   {
    "duration": 3,
    "start_time": "2024-06-11T15:04:35.351Z"
   },
   {
    "duration": 14,
    "start_time": "2024-06-11T15:04:35.782Z"
   },
   {
    "duration": 84,
    "start_time": "2024-06-11T15:04:37.270Z"
   },
   {
    "duration": 52,
    "start_time": "2024-06-11T15:04:37.931Z"
   },
   {
    "duration": 13,
    "start_time": "2024-06-11T15:04:39.905Z"
   },
   {
    "duration": 9,
    "start_time": "2024-06-11T15:05:37.700Z"
   },
   {
    "duration": 8,
    "start_time": "2024-06-11T15:05:49.820Z"
   },
   {
    "duration": 11,
    "start_time": "2024-06-11T15:06:03.651Z"
   },
   {
    "duration": 8,
    "start_time": "2024-06-11T15:06:16.503Z"
   },
   {
    "duration": 35,
    "start_time": "2024-06-11T15:08:48.635Z"
   },
   {
    "duration": 4,
    "start_time": "2024-06-11T15:08:53.135Z"
   },
   {
    "duration": 27,
    "start_time": "2024-06-11T15:08:53.362Z"
   },
   {
    "duration": 4340,
    "start_time": "2024-06-11T15:09:10.600Z"
   },
   {
    "duration": 82,
    "start_time": "2024-06-11T15:09:55.003Z"
   },
   {
    "duration": 67,
    "start_time": "2024-06-11T15:10:02.003Z"
   },
   {
    "duration": 35,
    "start_time": "2024-06-11T15:10:16.122Z"
   },
   {
    "duration": 7,
    "start_time": "2024-06-11T15:10:30.100Z"
   },
   {
    "duration": 25,
    "start_time": "2024-06-11T15:12:33.156Z"
   },
   {
    "duration": 7,
    "start_time": "2024-06-11T15:12:38.370Z"
   },
   {
    "duration": 28,
    "start_time": "2024-06-11T15:12:51.555Z"
   },
   {
    "duration": 13,
    "start_time": "2024-06-11T15:12:51.824Z"
   },
   {
    "duration": 7,
    "start_time": "2024-06-11T15:12:52.333Z"
   },
   {
    "duration": 4,
    "start_time": "2024-06-11T15:12:59.447Z"
   },
   {
    "duration": 12,
    "start_time": "2024-06-11T15:12:59.819Z"
   },
   {
    "duration": 73,
    "start_time": "2024-06-11T15:13:05.388Z"
   },
   {
    "duration": 43,
    "start_time": "2024-06-11T15:13:05.655Z"
   },
   {
    "duration": 12,
    "start_time": "2024-06-11T15:13:08.757Z"
   },
   {
    "duration": 3,
    "start_time": "2024-06-11T15:15:53.439Z"
   },
   {
    "duration": 4105,
    "start_time": "2024-06-11T15:15:53.953Z"
   },
   {
    "duration": 88,
    "start_time": "2024-06-11T15:15:58.062Z"
   },
   {
    "duration": 22,
    "start_time": "2024-06-11T15:15:58.153Z"
   },
   {
    "duration": 7,
    "start_time": "2024-06-11T15:15:58.179Z"
   },
   {
    "duration": 21,
    "start_time": "2024-06-11T15:16:16.160Z"
   },
   {
    "duration": 6,
    "start_time": "2024-06-11T15:16:16.391Z"
   },
   {
    "duration": 9,
    "start_time": "2024-06-11T15:16:16.739Z"
   },
   {
    "duration": 7,
    "start_time": "2024-06-11T15:16:32.828Z"
   },
   {
    "duration": 9,
    "start_time": "2024-06-11T15:16:47.834Z"
   },
   {
    "duration": 4436,
    "start_time": "2024-06-11T15:17:04.690Z"
   },
   {
    "duration": 5,
    "start_time": "2024-06-11T15:17:14.558Z"
   },
   {
    "duration": 439,
    "start_time": "2024-06-11T15:17:16.084Z"
   },
   {
    "duration": 18,
    "start_time": "2024-06-11T15:17:23.541Z"
   }
  ],
  "kernelspec": {
   "display_name": "Python 3 (ipykernel)",
   "language": "python",
   "name": "python3"
  },
  "language_info": {
   "codemirror_mode": {
    "name": "ipython",
    "version": 3
   },
   "file_extension": ".py",
   "mimetype": "text/x-python",
   "name": "python",
   "nbconvert_exporter": "python",
   "pygments_lexer": "ipython3",
   "version": "3.9.19"
  },
  "toc": {
   "base_numbering": 1,
   "nav_menu": {},
   "number_sections": true,
   "sideBar": true,
   "skip_h1_title": true,
   "title_cell": "Table of Contents",
   "title_sidebar": "Contents",
   "toc_cell": false,
   "toc_position": {},
   "toc_section_display": true,
   "toc_window_display": false
  }
 },
 "nbformat": 4,
 "nbformat_minor": 2
}
